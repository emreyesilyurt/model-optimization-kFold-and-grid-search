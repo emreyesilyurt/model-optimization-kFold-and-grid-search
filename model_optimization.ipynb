{
 "cells": [
  {
   "cell_type": "code",
   "execution_count": 1,
   "metadata": {},
   "outputs": [],
   "source": [
    "import pandas as pd\n",
    "import numpy as np\n",
    "import matplotlib.pyplot as plt\n",
    "from sklearn.metrics import confusion_matrix\n",
    "from sklearn.model_selection import cross_val_score\n",
    "import seaborn as sns"
   ]
  },
  {
   "cell_type": "code",
   "execution_count": 2,
   "metadata": {},
   "outputs": [],
   "source": [
    "train = pd.read_csv('dataset/train.csv')\n",
    "test = pd.read_csv('dataset/test.csv')\n",
    "gender = pd.read_csv('gender_submission.csv')"
   ]
  },
  {
   "cell_type": "markdown",
   "metadata": {},
   "source": [
    "### The sum of the null values in each column."
   ]
  },
  {
   "cell_type": "code",
   "execution_count": 3,
   "metadata": {},
   "outputs": [
    {
     "data": {
      "text/plain": [
       "PassengerId      0\n",
       "Survived         0\n",
       "Pclass           0\n",
       "Name             0\n",
       "Sex              0\n",
       "Age            177\n",
       "SibSp            0\n",
       "Parch            0\n",
       "Ticket           0\n",
       "Fare             0\n",
       "Cabin          687\n",
       "Embarked         2\n",
       "dtype: int64"
      ]
     },
     "execution_count": 3,
     "metadata": {},
     "output_type": "execute_result"
    }
   ],
   "source": [
    "train.isnull().sum()"
   ]
  },
  {
   "cell_type": "code",
   "execution_count": 4,
   "metadata": {},
   "outputs": [
    {
     "data": {
      "text/plain": [
       "PassengerId      0\n",
       "Pclass           0\n",
       "Name             0\n",
       "Sex              0\n",
       "Age             86\n",
       "SibSp            0\n",
       "Parch            0\n",
       "Ticket           0\n",
       "Fare             1\n",
       "Cabin          327\n",
       "Embarked         0\n",
       "dtype: int64"
      ]
     },
     "execution_count": 4,
     "metadata": {},
     "output_type": "execute_result"
    }
   ],
   "source": [
    "test.isnull().sum()"
   ]
  },
  {
   "cell_type": "code",
   "execution_count": 5,
   "metadata": {},
   "outputs": [],
   "source": [
    "from sklearn.impute import SimpleImputer\n",
    "imputer = SimpleImputer(missing_values = np.nan, strategy = 'mean')    "
   ]
  },
  {
   "cell_type": "code",
   "execution_count": 6,
   "metadata": {},
   "outputs": [],
   "source": [
    "train.iloc[:,5:6] = imputer.fit_transform(train.iloc[:,5:6])\n",
    "test.iloc[:,4:5] = imputer.fit_transform(test.iloc[:,4:5])\n",
    "test[['Fare']] = imputer.fit_transform(test[['Fare']])"
   ]
  },
  {
   "cell_type": "markdown",
   "metadata": {},
   "source": [
    "### After imputer"
   ]
  },
  {
   "cell_type": "code",
   "execution_count": 7,
   "metadata": {},
   "outputs": [
    {
     "data": {
      "text/plain": [
       "PassengerId      0\n",
       "Survived         0\n",
       "Pclass           0\n",
       "Name             0\n",
       "Sex              0\n",
       "Age              0\n",
       "SibSp            0\n",
       "Parch            0\n",
       "Ticket           0\n",
       "Fare             0\n",
       "Cabin          687\n",
       "Embarked         2\n",
       "dtype: int64"
      ]
     },
     "execution_count": 7,
     "metadata": {},
     "output_type": "execute_result"
    }
   ],
   "source": [
    "train.isnull().sum()"
   ]
  },
  {
   "cell_type": "code",
   "execution_count": 8,
   "metadata": {},
   "outputs": [
    {
     "data": {
      "text/plain": [
       "PassengerId      0\n",
       "Pclass           0\n",
       "Name             0\n",
       "Sex              0\n",
       "Age              0\n",
       "SibSp            0\n",
       "Parch            0\n",
       "Ticket           0\n",
       "Fare             0\n",
       "Cabin          327\n",
       "Embarked         0\n",
       "dtype: int64"
      ]
     },
     "execution_count": 8,
     "metadata": {},
     "output_type": "execute_result"
    }
   ],
   "source": [
    "test.isnull().sum()"
   ]
  },
  {
   "cell_type": "code",
   "execution_count": 9,
   "metadata": {},
   "outputs": [],
   "source": [
    "from sklearn.preprocessing import OneHotEncoder\n",
    "ohe = OneHotEncoder()\n",
    "sexTrain = train.iloc[:,4:5]\n",
    "sexTrain = ohe.fit_transform(sexTrain).toarray()\n",
    "sexTrain = pd.DataFrame(data = sexTrain, index = range(len(sexTrain)), columns = ['Female', 'Male'])"
   ]
  },
  {
   "cell_type": "code",
   "execution_count": 10,
   "metadata": {},
   "outputs": [],
   "source": [
    "sexTest = test.iloc[:,3:4]\n",
    "sexTest = ohe.fit_transform(sexTest).toarray()\n",
    "sexTest = pd.DataFrame(data = sexTest, index = range(len(sexTest)), columns = ['Female', 'Male'])"
   ]
  },
  {
   "cell_type": "code",
   "execution_count": 11,
   "metadata": {},
   "outputs": [],
   "source": [
    "x_train = pd.concat([train[['Pclass', 'Age', 'SibSp', 'Parch', 'Fare']], sexTrain['Female']], axis = 1)\n",
    "x_test = pd.concat([test[['Pclass', 'Age', 'SibSp', 'Parch', 'Fare']], sexTest['Female']], axis = 1)\n"
   ]
  },
  {
   "cell_type": "code",
   "execution_count": 12,
   "metadata": {},
   "outputs": [],
   "source": [
    "y_train = pd.concat([train['Survived']])\n",
    "y_test = gender.iloc[:,1:]\n"
   ]
  },
  {
   "cell_type": "markdown",
   "metadata": {},
   "source": [
    "### Model selection"
   ]
  },
  {
   "cell_type": "code",
   "execution_count": 13,
   "metadata": {},
   "outputs": [
    {
     "name": "stdout",
     "output_type": "stream",
     "text": [
      "XGB CM\n",
      " [[234  32]\n",
      " [ 40 112]]\n",
      "XGB Accuracy:  0.8125681735547207\n",
      "XGB Std:  0.015019315488846188\n"
     ]
    }
   ],
   "source": [
    "from xgboost import XGBClassifier\n",
    "xgb = XGBClassifier()\n",
    "xgb.fit(x_train, y_train)\n",
    "y_pred_xgb = xgb.predict(x_test)\n",
    "\n",
    "cm = confusion_matrix(y_test, y_pred_xgb)\n",
    "print('XGB CM\\n', cm)\n",
    "\n",
    "crossVal= cross_val_score(estimator = xgb, X = x_train, y = y_train, cv = 4)\n",
    "print('XGB Accuracy: ', crossVal.mean())\n",
    "print('XGB Std: ', crossVal.std())"
   ]
  },
  {
   "cell_type": "code",
   "execution_count": 14,
   "metadata": {},
   "outputs": [
    {
     "name": "stdout",
     "output_type": "stream",
     "text": [
      "LogisticRegression CM\n",
      " [[253  13]\n",
      " [ 10 142]]\n",
      "Logistic Regression Accuracy:  0.7901415989981012\n",
      "Logistic Regression Std:  0.016677369878150876\n"
     ]
    }
   ],
   "source": [
    "from sklearn.linear_model import LogisticRegression\n",
    "log_reg = LogisticRegression(random_state = 0)\n",
    "log_reg.fit(x_train, y_train)\n",
    "y_pred = log_reg.predict(x_test)\n",
    "cm = confusion_matrix(y_test, y_pred)\n",
    "print('LogisticRegression CM\\n', cm)\n",
    "\n",
    "crossVal = cross_val_score(estimator = log_reg, X = x_train, y = y_train, cv = 4)\n",
    "print('Logistic Regression Accuracy: ', crossVal.mean())\n",
    "print('Logistic Regression Std: ', crossVal.std())"
   ]
  },
  {
   "cell_type": "code",
   "execution_count": 15,
   "metadata": {},
   "outputs": [
    {
     "name": "stdout",
     "output_type": "stream",
     "text": [
      "SVC CM\n",
      " [[266   0]\n",
      " [  0 152]]\n",
      "SVC Accuracy:  0.786748070940896\n",
      "SVC Std:  0.017323976251949758\n"
     ]
    }
   ],
   "source": [
    "from sklearn.svm import SVC\n",
    "svc = SVC(kernel = 'linear')\n",
    "#svc = SVC(kernel = 'poly')\n",
    "#svc = SVC(kernel = 'rbf')\n",
    "#svc = SVC(kernel = 'precomputed')\n",
    "svc.fit(x_train, y_train)\n",
    "y_pred = svc.predict(x_test)\n",
    "cm = confusion_matrix(y_test, y_pred)\n",
    "print('SVC CM\\n', cm)\n",
    "\n",
    "crossVal = cross_val_score(estimator = svc, X = x_train, y = y_train, cv = 4)\n",
    "print('SVC Accuracy: ', crossVal.mean())\n",
    "print('SVC Std: ', crossVal.std())\n"
   ]
  },
  {
   "cell_type": "code",
   "execution_count": 16,
   "metadata": {},
   "outputs": [
    {
     "name": "stdout",
     "output_type": "stream",
     "text": [
      "GaussianNB CM\n",
      " [[243  23]\n",
      " [  6 146]]\n",
      "GaussianNB Accuracy:  0.7822789156869874\n",
      "GaussianNB Std:  0.011431935998370984\n"
     ]
    }
   ],
   "source": [
    "from sklearn.naive_bayes import GaussianNB\n",
    "gnb = GaussianNB()\n",
    "gnb.fit(x_train, y_train)\n",
    "y_pred = gnb.predict(x_test)\n",
    "cm = confusion_matrix(y_test, y_pred)\n",
    "print('GaussianNB CM\\n', cm)\n",
    "\n",
    "crossVal = cross_val_score(estimator = gnb, X = x_train, y = y_train, cv = 4)\n",
    "print('GaussianNB Accuracy: ', crossVal.mean())\n",
    "print('GaussianNB Std: ', crossVal.std())"
   ]
  },
  {
   "cell_type": "code",
   "execution_count": 17,
   "metadata": {},
   "outputs": [
    {
     "name": "stdout",
     "output_type": "stream",
     "text": [
      "MultinomialNB CM\n",
      " [[212  54]\n",
      " [ 89  63]]\n",
      "MultinomialNB Accuracy:  0.6947592211045125\n",
      "MultinomialNB Std:  0.05699698776274929\n"
     ]
    }
   ],
   "source": [
    "from sklearn.naive_bayes import MultinomialNB\n",
    "mnb = MultinomialNB()\n",
    "mnb.fit(x_train, y_train)\n",
    "y_pred = mnb.predict(x_test)\n",
    "cm = confusion_matrix(y_test, y_pred)\n",
    "print('MultinomialNB CM\\n', cm)\n",
    "\n",
    "crossVal = cross_val_score(estimator = mnb, X = x_train, y = y_train, cv = 4)\n",
    "print('MultinomialNB Accuracy: ', crossVal.mean())\n",
    "print('MultinomialNB Std: ', crossVal.std())"
   ]
  },
  {
   "cell_type": "code",
   "execution_count": 18,
   "metadata": {},
   "outputs": [
    {
     "name": "stdout",
     "output_type": "stream",
     "text": [
      "ComplementNB CM\n",
      " [[210  56]\n",
      " [ 88  64]]\n",
      "ComplementNB Accuracy:  0.6958802973376964\n",
      "ComplementNB Std:  0.05782394130892117\n"
     ]
    }
   ],
   "source": [
    "from sklearn.naive_bayes import ComplementNB\n",
    "cnb = ComplementNB()\n",
    "cnb.fit(x_train, y_train)\n",
    "y_pred = cnb.predict(x_test)\n",
    "cm = confusion_matrix(y_test, y_pred)\n",
    "print('ComplementNB CM\\n', cm)\n",
    "\n",
    "crossVal = cross_val_score(estimator = cnb, X = x_train, y = y_train, cv = 4)\n",
    "print('ComplementNB Accuracy: ', crossVal.mean())\n",
    "print('ComplementNB Std: ', crossVal.std())\n"
   ]
  },
  {
   "cell_type": "code",
   "execution_count": 19,
   "metadata": {},
   "outputs": [
    {
     "name": "stdout",
     "output_type": "stream",
     "text": [
      "BernoulliNB CM\n",
      " [[266   0]\n",
      " [  0 152]]\n",
      "BernoulliNB Accuracy:  0.786748070940896\n",
      "BernoulliNB Std:  0.017323976251949758\n"
     ]
    }
   ],
   "source": [
    "from sklearn.naive_bayes import BernoulliNB\n",
    "bnb = BernoulliNB()\n",
    "bnb.fit(x_train, y_train)\n",
    "y_pred = bnb.predict(x_test)\n",
    "cm = confusion_matrix(y_test, y_pred)\n",
    "print('BernoulliNB CM\\n', cm)\n",
    "\n",
    "crossVal = cross_val_score(estimator = bnb, X = x_train, y = y_train, cv = 4)\n",
    "print('BernoulliNB Accuracy: ', crossVal.mean())\n",
    "print('BernoulliNB Std: ', crossVal.std())\n"
   ]
  },
  {
   "cell_type": "code",
   "execution_count": 20,
   "metadata": {},
   "outputs": [
    {
     "name": "stdout",
     "output_type": "stream",
     "text": [
      "KNeighborsClassifier CM\n",
      " [[229  37]\n",
      " [102  50]]\n",
      "KNeighborsClassifier Accuracy:  0.6812659071627681\n",
      "KNeighborsClassifier Std:  0.041514905128271086\n"
     ]
    }
   ],
   "source": [
    "from sklearn.neighbors import KNeighborsClassifier\n",
    "knn = KNeighborsClassifier(n_neighbors = 2, metric = 'minkowski')\n",
    "knn.fit(x_train, y_train)\n",
    "y_pred = knn.predict(x_test)\n",
    "cm = confusion_matrix(y_test, y_pred)\n",
    "print('KNeighborsClassifier CM\\n', cm)\n",
    "\n",
    "crossVal = cross_val_score(estimator = knn, X = x_train, y = y_train, cv = 4)\n",
    "print('KNeighborsClassifier Accuracy: ', crossVal.mean())\n",
    "print('KNeighborsClassifier Std: ', crossVal.std())"
   ]
  },
  {
   "cell_type": "code",
   "execution_count": 21,
   "metadata": {},
   "outputs": [
    {
     "name": "stdout",
     "output_type": "stream",
     "text": [
      "RandomForestClassifier CM\n",
      " [[230  36]\n",
      " [ 52 100]]\n",
      "RandomForestClassifier Accuracy:  0.8058568658344443\n",
      "RandomForestClassifier Std:  0.03852849866142551\n"
     ]
    }
   ],
   "source": [
    "from sklearn.ensemble import RandomForestClassifier\n",
    "rfc = RandomForestClassifier(n_estimators = 10, criterion = 'entropy')\n",
    "rfc.fit(x_train, y_train)\n",
    "y_pred = rfc.predict(x_test)\n",
    "cm = confusion_matrix(y_test, y_pred)\n",
    "print('RandomForestClassifier CM\\n', cm)\n",
    "\n",
    "crossVal = cross_val_score(estimator = rfc, X = x_train, y = y_train, cv = 4)\n",
    "print('RandomForestClassifier Accuracy: ', crossVal.mean())\n",
    "print('RandomForestClassifier Std: ', crossVal.std())"
   ]
  },
  {
   "cell_type": "markdown",
   "metadata": {},
   "source": [
    "### Model optimization"
   ]
  },
  {
   "cell_type": "code",
   "execution_count": 22,
   "metadata": {},
   "outputs": [
    {
     "name": "stdout",
     "output_type": "stream",
     "text": [
      "Best_Result 0.8361922596754058\n",
      "Best_Params {'base_score': 0.8, 'colsample_bytree': 1, 'gamma': 0, 'learning_rate': 0.1, 'missing': False, 'n_estimators': 500, 'reg_alpha': 3, 'reg_lambda': 13, 'subsample': 1}\n"
     ]
    }
   ],
   "source": [
    "params = [{'learning_rate':[0.1,0.01],\n",
    "           'colsample_bytree':[1,3],\n",
    "           'gamma':[0,1],\n",
    "           'reg_alpha':[3,4,8],\n",
    "           'reg_lambda':[1,13,15],\n",
    "           'n_estimators':[200,500],\n",
    "           'missing':[False, True],\n",
    "           'subsample':[1,2],\n",
    "           'base_score':[0.2,0.8]\n",
    "           }\n",
    "]\n",
    "\n",
    "from sklearn.model_selection import GridSearchCV\n",
    "\n",
    "gs = GridSearchCV(estimator = xgb,\n",
    "                  param_grid = params,\n",
    "                  scoring = 'accuracy',\n",
    "                  cv = 10,\n",
    "                  n_jobs = -1)\n",
    "\n",
    "grid_search = gs.fit(x_train, y_train)\n",
    "best_result = grid_search.best_score_\n",
    "best_params = grid_search.best_params_\n",
    "print('Best_Result', best_result)\n",
    "print('Best_Params', best_params)"
   ]
  },
  {
   "cell_type": "code",
   "execution_count": 23,
   "metadata": {},
   "outputs": [
    {
     "name": "stdout",
     "output_type": "stream",
     "text": [
      "y_test (418, 1) \n",
      "y_pred_xgb (418,)\n",
      "XGB CM\n",
      " [[253  13]\n",
      " [ 24 128]]\n"
     ]
    }
   ],
   "source": [
    "from xgboost import XGBClassifier\n",
    "xgb = XGBClassifier(base_score=0.8, colsample_bylevel = 1, learning_rate=0.1, missing=False, n_estimators=500,\n",
    "       objective='binary:logistic', reg_alpha=3, reg_lambda=13, subsample = 1, gamma = 0)\n",
    "\n",
    "xgb.fit(x_train, y_train)\n",
    "y_pred_xgb = xgb.predict(x_test)\n",
    "\n",
    "print('y_test', y_test.shape, '\\ny_pred_xgb', y_pred_xgb.shape)\n",
    "cm = confusion_matrix(y_test, y_pred_xgb)\n",
    "print('XGB CM\\n', cm)"
   ]
  },
  {
   "cell_type": "code",
   "execution_count": 24,
   "metadata": {},
   "outputs": [],
   "source": [
    "passengerId = gender.iloc[:,0:1]\n",
    "y_pred_xgb = pd.DataFrame(data = y_pred_xgb, index = range(len(y_pred_xgb)))\n",
    "submit = pd.concat([passengerId, y_pred_xgb], axis = 1)\n",
    "\n",
    "submit.to_csv(r'submission.csv', index=False)"
   ]
  }
 ],
 "metadata": {
  "kernelspec": {
   "display_name": "Python 3",
   "language": "python",
   "name": "python3"
  },
  "language_info": {
   "codemirror_mode": {
    "name": "ipython",
    "version": 3
   },
   "file_extension": ".py",
   "mimetype": "text/x-python",
   "name": "python",
   "nbconvert_exporter": "python",
   "pygments_lexer": "ipython3",
   "version": "3.8.3"
  }
 },
 "nbformat": 4,
 "nbformat_minor": 4
}
